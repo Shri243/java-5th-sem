{
 "cells": [
  {
   "cell_type": "code",
   "execution_count": 24,
   "metadata": {},
   "outputs": [],
   "source": [
    "import shutil\n",
    "from pathlib import Path\n",
    "import os\n",
    "import pandas as pd"
   ]
  },
  {
   "cell_type": "code",
   "execution_count": 25,
   "metadata": {},
   "outputs": [
    {
     "name": "stdout",
     "output_type": "stream",
     "text": [
      "Thu Feb  1 15:25:37 2024       \n",
      "+-----------------------------------------------------------------------------------------+\n",
      "| NVIDIA-SMI 551.23                 Driver Version: 551.23         CUDA Version: 12.4     |\n",
      "|-----------------------------------------+------------------------+----------------------+\n",
      "| GPU  Name                     TCC/WDDM  | Bus-Id          Disp.A | Volatile Uncorr. ECC |\n",
      "| Fan  Temp   Perf          Pwr:Usage/Cap |           Memory-Usage | GPU-Util  Compute M. |\n",
      "|                                         |                        |               MIG M. |\n",
      "|=========================================+========================+======================|\n",
      "|   0  NVIDIA GeForce RTX 3050 ...  WDDM  |   00000000:01:00.0 Off |                  N/A |\n",
      "| N/A   51C    P8              3W /   65W |    3698MiB /   6144MiB |      0%      Default |\n",
      "|                                         |                        |                  N/A |\n",
      "+-----------------------------------------+------------------------+----------------------+\n",
      "                                                                                         \n",
      "+-----------------------------------------------------------------------------------------+\n",
      "| Processes:                                                                              |\n",
      "|  GPU   GI   CI        PID   Type   Process name                              GPU Memory |\n",
      "|        ID   ID                                                               Usage      |\n",
      "|=========================================================================================|\n",
      "|    0   N/A  N/A      4644      C   ...rograms\\Python\\Python310\\python.exe      N/A      |\n",
      "+-----------------------------------------------------------------------------------------+\n"
     ]
    }
   ],
   "source": [
    "!Nvidia-SMI"
   ]
  },
  {
   "cell_type": "code",
   "execution_count": 26,
   "metadata": {},
   "outputs": [],
   "source": [
    "data = pd.read_csv('../Test_Data/summan.smr')"
   ]
  },
  {
   "cell_type": "code",
   "execution_count": 27,
   "metadata": {},
   "outputs": [
    {
     "data": {
      "text/html": [
       "<div>\n",
       "<style scoped>\n",
       "    .dataframe tbody tr th:only-of-type {\n",
       "        vertical-align: middle;\n",
       "    }\n",
       "\n",
       "    .dataframe tbody tr th {\n",
       "        vertical-align: top;\n",
       "    }\n",
       "\n",
       "    .dataframe thead th {\n",
       "        text-align: right;\n",
       "    }\n",
       "</style>\n",
       "<table border=\"1\" class=\"dataframe\">\n",
       "  <thead>\n",
       "    <tr style=\"text-align: right;\">\n",
       "      <th></th>\n",
       "      <th>img_name</th>\n",
       "      <th>lat</th>\n",
       "      <th>lon</th>\n",
       "      <th>heading</th>\n",
       "      <th>pitch</th>\n",
       "      <th>timestamp</th>\n",
       "      <th>status</th>\n",
       "      <th>Tree</th>\n",
       "      <th>Pole w/ wire</th>\n",
       "      <th>Intersection</th>\n",
       "    </tr>\n",
       "  </thead>\n",
       "  <tbody>\n",
       "    <tr>\n",
       "      <th>0</th>\n",
       "      <td>_panoid_-1tN4lEA-abrRGZw66d34Q_heading_294_pit...</td>\n",
       "      <td>-23.549251</td>\n",
       "      <td>-46.541349</td>\n",
       "      <td>294</td>\n",
       "      <td>-1</td>\n",
       "      <td>2019-03</td>\n",
       "      <td>free</td>\n",
       "      <td>1</td>\n",
       "      <td>1</td>\n",
       "      <td>0</td>\n",
       "    </tr>\n",
       "    <tr>\n",
       "      <th>1</th>\n",
       "      <td>_panoid_-2bCdOFUdXRl3YZkXZ2KVw_heading_224_pit...</td>\n",
       "      <td>-23.524786</td>\n",
       "      <td>-46.695520</td>\n",
       "      <td>224</td>\n",
       "      <td>4</td>\n",
       "      <td>2019-04</td>\n",
       "      <td>free</td>\n",
       "      <td>1</td>\n",
       "      <td>1</td>\n",
       "      <td>1</td>\n",
       "    </tr>\n",
       "    <tr>\n",
       "      <th>2</th>\n",
       "      <td>_panoid_-2bCdOFUdXRl3YZkXZ2KVw_heading_334_pit...</td>\n",
       "      <td>-23.524786</td>\n",
       "      <td>-46.695520</td>\n",
       "      <td>334</td>\n",
       "      <td>4</td>\n",
       "      <td>2019-04</td>\n",
       "      <td>free</td>\n",
       "      <td>1</td>\n",
       "      <td>1</td>\n",
       "      <td>1</td>\n",
       "    </tr>\n",
       "    <tr>\n",
       "      <th>3</th>\n",
       "      <td>_panoid_-2yEbA_Nn547hSIMJqXFmg_heading_133_pit...</td>\n",
       "      <td>-23.564307</td>\n",
       "      <td>-46.755973</td>\n",
       "      <td>133</td>\n",
       "      <td>6</td>\n",
       "      <td>2019-05</td>\n",
       "      <td>free</td>\n",
       "      <td>1</td>\n",
       "      <td>0</td>\n",
       "      <td>0</td>\n",
       "    </tr>\n",
       "    <tr>\n",
       "      <th>4</th>\n",
       "      <td>_panoid_-2yEbA_Nn547hSIMJqXFmg_heading_248_pit...</td>\n",
       "      <td>-23.564307</td>\n",
       "      <td>-46.755973</td>\n",
       "      <td>248</td>\n",
       "      <td>6</td>\n",
       "      <td>2019-05</td>\n",
       "      <td>free</td>\n",
       "      <td>1</td>\n",
       "      <td>0</td>\n",
       "      <td>0</td>\n",
       "    </tr>\n",
       "  </tbody>\n",
       "</table>\n",
       "</div>"
      ],
      "text/plain": [
       "                                            img_name        lat        lon  \\\n",
       "0  _panoid_-1tN4lEA-abrRGZw66d34Q_heading_294_pit... -23.549251 -46.541349   \n",
       "1  _panoid_-2bCdOFUdXRl3YZkXZ2KVw_heading_224_pit... -23.524786 -46.695520   \n",
       "2  _panoid_-2bCdOFUdXRl3YZkXZ2KVw_heading_334_pit... -23.524786 -46.695520   \n",
       "3  _panoid_-2yEbA_Nn547hSIMJqXFmg_heading_133_pit... -23.564307 -46.755973   \n",
       "4  _panoid_-2yEbA_Nn547hSIMJqXFmg_heading_248_pit... -23.564307 -46.755973   \n",
       "\n",
       "   heading  pitch timestamp status  Tree  Pole w/ wire  Intersection  \n",
       "0      294     -1   2019-03   free     1             1             0  \n",
       "1      224      4   2019-04   free     1             1             1  \n",
       "2      334      4   2019-04   free     1             1             1  \n",
       "3      133      6   2019-05   free     1             0             0  \n",
       "4      248      6   2019-05   free     1             0             0  "
      ]
     },
     "execution_count": 27,
     "metadata": {},
     "output_type": "execute_result"
    }
   ],
   "source": [
    "data.head()"
   ]
  },
  {
   "cell_type": "code",
   "execution_count": 28,
   "metadata": {},
   "outputs": [
    {
     "data": {
      "text/html": [
       "<div>\n",
       "<style scoped>\n",
       "    .dataframe tbody tr th:only-of-type {\n",
       "        vertical-align: middle;\n",
       "    }\n",
       "\n",
       "    .dataframe tbody tr th {\n",
       "        vertical-align: top;\n",
       "    }\n",
       "\n",
       "    .dataframe thead th {\n",
       "        text-align: right;\n",
       "    }\n",
       "</style>\n",
       "<table border=\"1\" class=\"dataframe\">\n",
       "  <thead>\n",
       "    <tr style=\"text-align: right;\">\n",
       "      <th></th>\n",
       "      <th>img_name</th>\n",
       "      <th>heading</th>\n",
       "      <th>pitch</th>\n",
       "      <th>Tree</th>\n",
       "      <th>Pole w/ wire</th>\n",
       "      <th>Intersection</th>\n",
       "    </tr>\n",
       "  </thead>\n",
       "  <tbody>\n",
       "    <tr>\n",
       "      <th>0</th>\n",
       "      <td>../Test_Data/_panoid_-1tN4lEA-abrRGZw66d34Q_he...</td>\n",
       "      <td>294</td>\n",
       "      <td>-1</td>\n",
       "      <td>1</td>\n",
       "      <td>1</td>\n",
       "      <td>0</td>\n",
       "    </tr>\n",
       "    <tr>\n",
       "      <th>1</th>\n",
       "      <td>../Test_Data/_panoid_-2bCdOFUdXRl3YZkXZ2KVw_he...</td>\n",
       "      <td>224</td>\n",
       "      <td>4</td>\n",
       "      <td>1</td>\n",
       "      <td>1</td>\n",
       "      <td>1</td>\n",
       "    </tr>\n",
       "    <tr>\n",
       "      <th>2</th>\n",
       "      <td>../Test_Data/_panoid_-2bCdOFUdXRl3YZkXZ2KVw_he...</td>\n",
       "      <td>334</td>\n",
       "      <td>4</td>\n",
       "      <td>1</td>\n",
       "      <td>1</td>\n",
       "      <td>1</td>\n",
       "    </tr>\n",
       "    <tr>\n",
       "      <th>3</th>\n",
       "      <td>../Test_Data/_panoid_-2yEbA_Nn547hSIMJqXFmg_he...</td>\n",
       "      <td>133</td>\n",
       "      <td>6</td>\n",
       "      <td>1</td>\n",
       "      <td>0</td>\n",
       "      <td>0</td>\n",
       "    </tr>\n",
       "    <tr>\n",
       "      <th>4</th>\n",
       "      <td>../Test_Data/_panoid_-2yEbA_Nn547hSIMJqXFmg_he...</td>\n",
       "      <td>248</td>\n",
       "      <td>6</td>\n",
       "      <td>1</td>\n",
       "      <td>0</td>\n",
       "      <td>0</td>\n",
       "    </tr>\n",
       "  </tbody>\n",
       "</table>\n",
       "</div>"
      ],
      "text/plain": [
       "                                            img_name  heading  pitch  Tree  \\\n",
       "0  ../Test_Data/_panoid_-1tN4lEA-abrRGZw66d34Q_he...      294     -1     1   \n",
       "1  ../Test_Data/_panoid_-2bCdOFUdXRl3YZkXZ2KVw_he...      224      4     1   \n",
       "2  ../Test_Data/_panoid_-2bCdOFUdXRl3YZkXZ2KVw_he...      334      4     1   \n",
       "3  ../Test_Data/_panoid_-2yEbA_Nn547hSIMJqXFmg_he...      133      6     1   \n",
       "4  ../Test_Data/_panoid_-2yEbA_Nn547hSIMJqXFmg_he...      248      6     1   \n",
       "\n",
       "   Pole w/ wire  Intersection  \n",
       "0             1             0  \n",
       "1             1             1  \n",
       "2             1             1  \n",
       "3             0             0  \n",
       "4             0             0  "
      ]
     },
     "execution_count": 28,
     "metadata": {},
     "output_type": "execute_result"
    }
   ],
   "source": [
    "data['img_name'] = dataset_path + data['img_name']\n",
    "data = data.drop('lat',axis=1)\n",
    "data = data.drop('lon',axis=1)\n",
    "data = data.drop('timestamp',axis=1)\n",
    "data = data.drop('status',axis=1)\n",
    "data.head()"
   ]
  },
  {
   "cell_type": "code",
   "execution_count": 29,
   "metadata": {},
   "outputs": [],
   "source": [
    "from PIL import Image\n",
    "import os"
   ]
  },
  {
   "cell_type": "code",
   "execution_count": 30,
   "metadata": {},
   "outputs": [],
   "source": [
    "dataset_path = '../Test_Data/'\n",
    "\n",
    "# Create a list to store file paths and corresponding labels\n",
    "file_paths = []\n",
    "labels = []"
   ]
  },
  {
   "cell_type": "code",
   "execution_count": 31,
   "metadata": {},
   "outputs": [],
   "source": [
    "from sklearn.model_selection import train_test_split\n",
    "\n",
    "train_df, test_df = train_test_split(data, test_size=0.2, random_state=42)\n"
   ]
  },
  {
   "cell_type": "code",
   "execution_count": 32,
   "metadata": {},
   "outputs": [
    {
     "data": {
      "text/html": [
       "<div>\n",
       "<style scoped>\n",
       "    .dataframe tbody tr th:only-of-type {\n",
       "        vertical-align: middle;\n",
       "    }\n",
       "\n",
       "    .dataframe tbody tr th {\n",
       "        vertical-align: top;\n",
       "    }\n",
       "\n",
       "    .dataframe thead th {\n",
       "        text-align: right;\n",
       "    }\n",
       "</style>\n",
       "<table border=\"1\" class=\"dataframe\">\n",
       "  <thead>\n",
       "    <tr style=\"text-align: right;\">\n",
       "      <th></th>\n",
       "      <th>img_name</th>\n",
       "      <th>heading</th>\n",
       "      <th>pitch</th>\n",
       "      <th>Tree</th>\n",
       "      <th>Pole w/ wire</th>\n",
       "      <th>Intersection</th>\n",
       "    </tr>\n",
       "  </thead>\n",
       "  <tbody>\n",
       "    <tr>\n",
       "      <th>535</th>\n",
       "      <td>../Test_Data/_panoid_-qW3U3yMEE8vz47tLnu1eg_he...</td>\n",
       "      <td>74</td>\n",
       "      <td>0</td>\n",
       "      <td>1</td>\n",
       "      <td>1</td>\n",
       "      <td>1</td>\n",
       "    </tr>\n",
       "    <tr>\n",
       "      <th>696</th>\n",
       "      <td>../Test_Data/_panoid_2HlR4Kl9I4I7ZiwABtpsLg_he...</td>\n",
       "      <td>20</td>\n",
       "      <td>0</td>\n",
       "      <td>1</td>\n",
       "      <td>1</td>\n",
       "      <td>0</td>\n",
       "    </tr>\n",
       "    <tr>\n",
       "      <th>557</th>\n",
       "      <td>../Test_Data/_panoid_00Y2OYhvDszADp7kTpQPSw_he...</td>\n",
       "      <td>62</td>\n",
       "      <td>-1</td>\n",
       "      <td>1</td>\n",
       "      <td>1</td>\n",
       "      <td>0</td>\n",
       "    </tr>\n",
       "    <tr>\n",
       "      <th>643</th>\n",
       "      <td>../Test_Data/_panoid_1oqQcQwNkHIpC62HBv2B3A_he...</td>\n",
       "      <td>200</td>\n",
       "      <td>0</td>\n",
       "      <td>1</td>\n",
       "      <td>1</td>\n",
       "      <td>1</td>\n",
       "    </tr>\n",
       "    <tr>\n",
       "      <th>597</th>\n",
       "      <td>../Test_Data/_panoid_0Ral0UQRhTFsLf2RDhJ1RQ_he...</td>\n",
       "      <td>180</td>\n",
       "      <td>-1</td>\n",
       "      <td>1</td>\n",
       "      <td>1</td>\n",
       "      <td>0</td>\n",
       "    </tr>\n",
       "  </tbody>\n",
       "</table>\n",
       "</div>"
      ],
      "text/plain": [
       "                                              img_name  heading  pitch  Tree  \\\n",
       "535  ../Test_Data/_panoid_-qW3U3yMEE8vz47tLnu1eg_he...       74      0     1   \n",
       "696  ../Test_Data/_panoid_2HlR4Kl9I4I7ZiwABtpsLg_he...       20      0     1   \n",
       "557  ../Test_Data/_panoid_00Y2OYhvDszADp7kTpQPSw_he...       62     -1     1   \n",
       "643  ../Test_Data/_panoid_1oqQcQwNkHIpC62HBv2B3A_he...      200      0     1   \n",
       "597  ../Test_Data/_panoid_0Ral0UQRhTFsLf2RDhJ1RQ_he...      180     -1     1   \n",
       "\n",
       "     Pole w/ wire  Intersection  \n",
       "535             1             1  \n",
       "696             1             0  \n",
       "557             1             0  \n",
       "643             1             1  \n",
       "597             1             0  "
      ]
     },
     "execution_count": 32,
     "metadata": {},
     "output_type": "execute_result"
    }
   ],
   "source": [
    "train_df.head()"
   ]
  },
  {
   "cell_type": "code",
   "execution_count": 33,
   "metadata": {},
   "outputs": [
    {
     "data": {
      "text/plain": [
       "((800, 6), (201, 6))"
      ]
     },
     "execution_count": 33,
     "metadata": {},
     "output_type": "execute_result"
    }
   ],
   "source": [
    "train_df.shape,test_df.shape"
   ]
  },
  {
   "cell_type": "code",
   "execution_count": 34,
   "metadata": {},
   "outputs": [],
   "source": [
    "import tensorflow as tf"
   ]
  },
  {
   "cell_type": "code",
   "execution_count": 35,
   "metadata": {},
   "outputs": [
    {
     "name": "stdout",
     "output_type": "stream",
     "text": [
      "<TensorSliceDataset element_spec=(TensorSpec(shape=(), dtype=tf.string, name=None), TensorSpec(shape=(), dtype=tf.int64, name=None))>\n"
     ]
    }
   ],
   "source": [
    "train_dataset = tf.data.Dataset.from_tensor_slices(\n",
    "    (train_df['img_name'].values, train_df['Intersection'].values)\n",
    ")\n",
    "print(train_dataset)"
   ]
  },
  {
   "cell_type": "code",
   "execution_count": 36,
   "metadata": {},
   "outputs": [
    {
     "name": "stdout",
     "output_type": "stream",
     "text": [
      "<TensorSliceDataset element_spec=(TensorSpec(shape=(), dtype=tf.string, name=None), TensorSpec(shape=(), dtype=tf.int64, name=None))>\n"
     ]
    }
   ],
   "source": [
    "test_dataset = tf.data.Dataset.from_tensor_slices(\n",
    "    (test_df['img_name'].values, test_df['Intersection'].values)\n",
    ")\n",
    "print(test_dataset)"
   ]
  },
  {
   "cell_type": "code",
   "execution_count": 37,
   "metadata": {},
   "outputs": [],
   "source": [
    "def load_and_preprocess_image(file_path, label):\n",
    "    image = tf.io.read_file(file_path)\n",
    "    image = tf.image.decode_image(image, channels=3)  # Adjust channels based on your images\n",
    "\n",
    "    # Explicitly set the shape of the image tensor\n",
    "    image.set_shape([640, 640, 3])  # Assuming 3 channels for RGB images\n",
    "\n",
    "    # Resize the image\n",
    "    image = tf.image.resize(image, (640, 640))  # Adjust size as needed\n",
    "\n",
    "    image = image / 255.0  # Normalize pixel values to the range [0, 1]\n",
    "    return image, label"
   ]
  },
  {
   "cell_type": "code",
   "execution_count": 38,
   "metadata": {},
   "outputs": [],
   "source": [
    "test_dataset = test_dataset.map(load_and_preprocess_image)\n",
    "train_dataset = train_dataset.map(load_and_preprocess_image)"
   ]
  },
  {
   "cell_type": "code",
   "execution_count": 39,
   "metadata": {},
   "outputs": [
    {
     "name": "stdout",
     "output_type": "stream",
     "text": [
      "Thu Feb  1 15:25:48 2024       \n",
      "+-----------------------------------------------------------------------------------------+\n",
      "| NVIDIA-SMI 551.23                 Driver Version: 551.23         CUDA Version: 12.4     |\n",
      "|-----------------------------------------+------------------------+----------------------+\n",
      "| GPU  Name                     TCC/WDDM  | Bus-Id          Disp.A | Volatile Uncorr. ECC |\n",
      "| Fan  Temp   Perf          Pwr:Usage/Cap |           Memory-Usage | GPU-Util  Compute M. |\n",
      "|                                         |                        |               MIG M. |\n",
      "|=========================================+========================+======================|\n",
      "|   0  NVIDIA GeForce RTX 3050 ...  WDDM  |   00000000:01:00.0 Off |                  N/A |\n",
      "| N/A   50C    P8              3W /   65W |    3698MiB /   6144MiB |      0%      Default |\n",
      "|                                         |                        |                  N/A |\n",
      "+-----------------------------------------+------------------------+----------------------+\n",
      "                                                                                         \n",
      "+-----------------------------------------------------------------------------------------+\n",
      "| Processes:                                                                              |\n",
      "|  GPU   GI   CI        PID   Type   Process name                              GPU Memory |\n",
      "|        ID   ID                                                               Usage      |\n",
      "|=========================================================================================|\n",
      "|    0   N/A  N/A      4644      C   ...rograms\\Python\\Python310\\python.exe      N/A      |\n",
      "+-----------------------------------------------------------------------------------------+\n"
     ]
    }
   ],
   "source": [
    "!Nvidia-SMI"
   ]
  },
  {
   "cell_type": "code",
   "execution_count": 40,
   "metadata": {},
   "outputs": [],
   "source": [
    "train_dataset = train_dataset.shuffle(buffer_size=len(train_df))\n",
    "train_dataset = train_dataset.batch(32)"
   ]
  },
  {
   "cell_type": "code",
   "execution_count": 41,
   "metadata": {},
   "outputs": [],
   "source": [
    "test_dataset = test_dataset.shuffle(buffer_size=len(train_df))\n",
    "test_dataset = test_dataset.batch(32)"
   ]
  },
  {
   "cell_type": "code",
   "execution_count": 42,
   "metadata": {},
   "outputs": [
    {
     "name": "stdout",
     "output_type": "stream",
     "text": [
      "WARNING:tensorflow:`input_shape` is undefined or non-square, or `rows` is not in [96, 128, 160, 192, 224]. Weights for input shape (224, 224) will be loaded as the default.\n",
      "Model: \"sequential_1\"\n",
      "_________________________________________________________________\n",
      " Layer (type)                Output Shape              Param #   \n",
      "=================================================================\n",
      " mobilenetv2_1.00_224 (Funct  (None, 20, 20, 1280)     2257984   \n",
      " ional)                                                          \n",
      "                                                                 \n",
      " global_average_pooling2d_1   (None, 1280)             0         \n",
      " (GlobalAveragePooling2D)                                        \n",
      "                                                                 \n",
      " dense_3 (Dense)             (None, 1000)              1281000   \n",
      "                                                                 \n",
      " dropout_2 (Dropout)         (None, 1000)              0         \n",
      "                                                                 \n",
      " dense_4 (Dense)             (None, 500)               500500    \n",
      "                                                                 \n",
      " dropout_3 (Dropout)         (None, 500)               0         \n",
      "                                                                 \n",
      " dense_5 (Dense)             (None, 1)                 501       \n",
      "                                                                 \n",
      "=================================================================\n",
      "Total params: 4,039,985\n",
      "Trainable params: 1,782,001\n",
      "Non-trainable params: 2,257,984\n",
      "_________________________________________________________________\n"
     ]
    },
    {
     "data": {
      "text/plain": [
       "<tensorflow.python.checkpoint.checkpoint.CheckpointLoadStatus at 0x183c4a083d0>"
      ]
     },
     "execution_count": 42,
     "metadata": {},
     "output_type": "execute_result"
    }
   ],
   "source": [
    "base_model = tf.keras.applications.MobileNetV2(input_shape=(640,640,3),\n",
    "                                                           include_top=False,\n",
    "                                                           weights='imagenet')\n",
    "base_model.trainable = False\n",
    "from tensorflow.keras import layers, models\n",
    "\n",
    "# Define your base model\n",
    "# Build the modified model with an additional convolutional layer\n",
    "model = models.Sequential([\n",
    "    base_model,\n",
    "    layers.GlobalAveragePooling2D(),\n",
    "    layers.Dense(1000, activation='relu'),\n",
    "    layers.Dropout(0.5),\n",
    "    layers.Dense(500, activation='relu'),\n",
    "    layers.Dropout(0.5),\n",
    "    layers.Dense(1, activation='sigmoid')\n",
    "])\n",
    "\n",
    "# Compile the model\n",
    "model.compile(\n",
    "    optimizer='adam',\n",
    "    loss='binary_crossentropy',\n",
    "    metrics=['accuracy']\n",
    ")\n",
    "\n",
    "# Print the model summary\n",
    "model.summary()\n",
    "model.load_weights('./MobileNetV2_640_640_100_20finetuned/')"
   ]
  },
  {
   "cell_type": "code",
   "execution_count": 43,
   "metadata": {},
   "outputs": [
    {
     "name": "stdout",
     "output_type": "stream",
     "text": [
      "7/7 [==============================] - 9s 333ms/step - loss: 0.9475 - accuracy: 0.7164\n"
     ]
    },
    {
     "data": {
      "text/plain": [
       "[0.9475407600402832, 0.7164179086685181]"
      ]
     },
     "execution_count": 43,
     "metadata": {},
     "output_type": "execute_result"
    }
   ],
   "source": [
    "model.evaluate(test_dataset)"
   ]
  },
  {
   "cell_type": "code",
   "execution_count": 45,
   "metadata": {},
   "outputs": [
    {
     "name": "stdout",
     "output_type": "stream",
     "text": [
      "Model: \"sequential_3\"\n",
      "_________________________________________________________________\n",
      " Layer (type)                Output Shape              Param #   \n",
      "=================================================================\n",
      " densenet121 (Functional)    (None, 20, 20, 1024)      7037504   \n",
      "                                                                 \n",
      " global_average_pooling2d_3   (None, 1024)             0         \n",
      " (GlobalAveragePooling2D)                                        \n",
      "                                                                 \n",
      " dense_9 (Dense)             (None, 1000)              1025000   \n",
      "                                                                 \n",
      " dropout_6 (Dropout)         (None, 1000)              0         \n",
      "                                                                 \n",
      " dense_10 (Dense)            (None, 500)               500500    \n",
      "                                                                 \n",
      " dropout_7 (Dropout)         (None, 500)               0         \n",
      "                                                                 \n",
      " dense_11 (Dense)            (None, 1)                 501       \n",
      "                                                                 \n",
      "=================================================================\n",
      "Total params: 8,563,505\n",
      "Trainable params: 1,526,001\n",
      "Non-trainable params: 7,037,504\n",
      "_________________________________________________________________\n"
     ]
    },
    {
     "data": {
      "text/plain": [
       "<tensorflow.python.checkpoint.checkpoint.CheckpointLoadStatus at 0x184f556cd00>"
      ]
     },
     "execution_count": 45,
     "metadata": {},
     "output_type": "execute_result"
    }
   ],
   "source": [
    "base_model = tf.keras.applications.DenseNet121(input_shape=(640,640,3),\n",
    "                                                           include_top=False,\n",
    "                                                           weights='imagenet')\n",
    "base_model.trainable = False\n",
    "from tensorflow.keras import layers, models\n",
    "\n",
    "# Define your base model\n",
    "# Build the modified model with an additional convolutional layer\n",
    "model = models.Sequential([\n",
    "    base_model,\n",
    "    layers.GlobalAveragePooling2D(),\n",
    "    layers.Dense(1000, activation='relu'),\n",
    "    layers.Dropout(0.5),\n",
    "    layers.Dense(500, activation='relu'),\n",
    "    layers.Dropout(0.5),\n",
    "    layers.Dense(1, activation='sigmoid')\n",
    "])\n",
    "\n",
    "# Compile the model\n",
    "model.compile(\n",
    "    optimizer='adam',\n",
    "    loss='binary_crossentropy',\n",
    "    metrics=['accuracy']\n",
    ")\n",
    "\n",
    "# Print the model summary\n",
    "model.summary()\n",
    "model.load_weights('./Densenet121_640_640_50_20_final/')"
   ]
  },
  {
   "cell_type": "code",
   "execution_count": 47,
   "metadata": {},
   "outputs": [
    {
     "name": "stdout",
     "output_type": "stream",
     "text": [
      "25/25 [==============================] - 28s 904ms/step - loss: 0.5607 - accuracy: 0.7837\n"
     ]
    },
    {
     "data": {
      "text/plain": [
       "[0.5607309341430664, 0.7837499976158142]"
      ]
     },
     "execution_count": 47,
     "metadata": {},
     "output_type": "execute_result"
    }
   ],
   "source": [
    "model.evaluate(train_dataset)"
   ]
  },
  {
   "cell_type": "code",
   "execution_count": 48,
   "metadata": {},
   "outputs": [
    {
     "name": "stdout",
     "output_type": "stream",
     "text": [
      "7/7 [==============================] - 6s 802ms/step - loss: 0.5992 - accuracy: 0.7114\n"
     ]
    },
    {
     "data": {
      "text/plain": [
       "[0.5992071628570557, 0.711442768573761]"
      ]
     },
     "execution_count": 48,
     "metadata": {},
     "output_type": "execute_result"
    }
   ],
   "source": [
    "model.evaluate(test_dataset)"
   ]
  },
  {
   "cell_type": "code",
   "execution_count": 59,
   "metadata": {},
   "outputs": [
    {
     "name": "stdout",
     "output_type": "stream",
     "text": [
      "Model: \"sequential_6\"\n",
      "_________________________________________________________________\n",
      " Layer (type)                Output Shape              Param #   \n",
      "=================================================================\n",
      " inception_resnet_v2 (Functi  (None, 18, 18, 1536)     54336736  \n",
      " onal)                                                           \n",
      "                                                                 \n",
      " global_average_pooling2d_6   (None, 1536)             0         \n",
      " (GlobalAveragePooling2D)                                        \n",
      "                                                                 \n",
      " dense_18 (Dense)            (None, 1000)              1537000   \n",
      "                                                                 \n",
      " dropout_12 (Dropout)        (None, 1000)              0         \n",
      "                                                                 \n",
      " dense_19 (Dense)            (None, 500)               500500    \n",
      "                                                                 \n",
      " dropout_13 (Dropout)        (None, 500)               0         \n",
      "                                                                 \n",
      " dense_20 (Dense)            (None, 1)                 501       \n",
      "                                                                 \n",
      "=================================================================\n",
      "Total params: 56,374,737\n",
      "Trainable params: 2,038,001\n",
      "Non-trainable params: 54,336,736\n",
      "_________________________________________________________________\n"
     ]
    },
    {
     "data": {
      "text/plain": [
       "<tensorflow.python.checkpoint.checkpoint.CheckpointLoadStatus at 0x184fc3a7790>"
      ]
     },
     "execution_count": 59,
     "metadata": {},
     "output_type": "execute_result"
    }
   ],
   "source": [
    "from tensorflow.keras import layers, models\n",
    "base_model1 = tf.keras.applications.InceptionResNetV2(input_shape=(640,640,3),\n",
    "                                                           include_top=False,\n",
    "                                                           weights='imagenet')\n",
    "base_model1.trainable = False\n",
    "\n",
    "\n",
    "# Define your base model\n",
    "# Build the modified model with an additional convolutional layer\n",
    "model = models.Sequential([\n",
    "    base_model1,\n",
    "    layers.GlobalAveragePooling2D(),\n",
    "    layers.Dense(1000, activation='relu'),\n",
    "    layers.Dropout(0.5),\n",
    "    layers.Dense(500, activation='relu'),\n",
    "    layers.Dropout(0.5),\n",
    "    layers.Dense(1, activation='sigmoid')\n",
    "])\n",
    "\n",
    "# Compile the model\n",
    "model.compile(\n",
    "    optimizer='adam',\n",
    "    loss='binary_crossentropy',\n",
    "    metrics=['accuracy']\n",
    ")\n",
    "\n",
    "# Print the model summary\n",
    "model.summary()\n",
    "model.load_weights('./InceptionResNetV2_640_640_90/')"
   ]
  },
  {
   "cell_type": "code",
   "execution_count": 60,
   "metadata": {},
   "outputs": [
    {
     "name": "stdout",
     "output_type": "stream",
     "text": [
      "25/25 [==============================] - 49s 2s/step - loss: 0.3183 - accuracy: 0.8537\n"
     ]
    },
    {
     "data": {
      "text/plain": [
       "[0.31833669543266296, 0.8537499904632568]"
      ]
     },
     "execution_count": 60,
     "metadata": {},
     "output_type": "execute_result"
    }
   ],
   "source": [
    "model.evaluate(train_dataset)"
   ]
  },
  {
   "cell_type": "code",
   "execution_count": 61,
   "metadata": {},
   "outputs": [
    {
     "name": "stdout",
     "output_type": "stream",
     "text": [
      "7/7 [==============================] - 11s 1s/step - loss: 0.6642 - accuracy: 0.6866\n"
     ]
    },
    {
     "data": {
      "text/plain": [
       "[0.6641801595687866, 0.6865671873092651]"
      ]
     },
     "execution_count": 61,
     "metadata": {},
     "output_type": "execute_result"
    }
   ],
   "source": [
    "model.evaluate(test_dataset)"
   ]
  },
  {
   "cell_type": "code",
   "execution_count": 63,
   "metadata": {},
   "outputs": [
    {
     "name": "stdout",
     "output_type": "stream",
     "text": [
      "Model: \"sequential_8\"\n",
      "_________________________________________________________________\n",
      " Layer (type)                Output Shape              Param #   \n",
      "=================================================================\n",
      " NASNet (Functional)         (None, 20, 20, 1056)      4269716   \n",
      "                                                                 \n",
      " global_average_pooling2d_8   (None, 1056)             0         \n",
      " (GlobalAveragePooling2D)                                        \n",
      "                                                                 \n",
      " dense_24 (Dense)            (None, 1000)              1057000   \n",
      "                                                                 \n",
      " dropout_16 (Dropout)        (None, 1000)              0         \n",
      "                                                                 \n",
      " dense_25 (Dense)            (None, 500)               500500    \n",
      "                                                                 \n",
      " dropout_17 (Dropout)        (None, 500)               0         \n",
      "                                                                 \n",
      " dense_26 (Dense)            (None, 1)                 501       \n",
      "                                                                 \n",
      "=================================================================\n",
      "Total params: 5,827,717\n",
      "Trainable params: 1,558,001\n",
      "Non-trainable params: 4,269,716\n",
      "_________________________________________________________________\n"
     ]
    },
    {
     "data": {
      "text/plain": [
       "<tensorflow.python.checkpoint.checkpoint.CheckpointLoadStatus at 0x1850ac1efe0>"
      ]
     },
     "execution_count": 63,
     "metadata": {},
     "output_type": "execute_result"
    }
   ],
   "source": [
    "from tensorflow.keras import layers, models\n",
    "base_model1 = tf.keras.applications.NASNetMobile(input_shape=(640,640,3),\n",
    "                                                           include_top=False,\n",
    "                                                           weights='imagenet')\n",
    "base_model1.trainable = False\n",
    "\n",
    "\n",
    "# Define your base model\n",
    "# Build the modified model with an additional convolutional layer\n",
    "model = models.Sequential([\n",
    "    base_model1,\n",
    "    layers.GlobalAveragePooling2D(),\n",
    "    layers.Dense(1000, activation='relu'),\n",
    "    layers.Dropout(0.5),\n",
    "    layers.Dense(500, activation='relu'),\n",
    "    layers.Dropout(0.5),\n",
    "    layers.Dense(1, activation='sigmoid')\n",
    "])\n",
    "\n",
    "# Compile the model\n",
    "model.compile(\n",
    "    optimizer='adam',\n",
    "    loss='binary_crossentropy',\n",
    "    metrics=['accuracy']\n",
    ")\n",
    "\n",
    "# Print the model summary\n",
    "model.summary()\n",
    "model.load_weights('./NASNET640_640_640_60NofineTuning/')"
   ]
  },
  {
   "cell_type": "code",
   "execution_count": 72,
   "metadata": {},
   "outputs": [
    {
     "name": "stdout",
     "output_type": "stream",
     "text": [
      "7/7 [==============================] - 6s 712ms/step - loss: 0.5413 - accuracy: 0.7114\n"
     ]
    },
    {
     "data": {
      "text/plain": [
       "[0.5412937998771667, 0.711442768573761]"
      ]
     },
     "execution_count": 72,
     "metadata": {},
     "output_type": "execute_result"
    }
   ],
   "source": [
    "model.evaluate(test_dataset)"
   ]
  },
  {
   "cell_type": "code",
   "execution_count": 73,
   "metadata": {},
   "outputs": [
    {
     "name": "stdout",
     "output_type": "stream",
     "text": [
      "25/25 [==============================] - 22s 801ms/step - loss: 0.2616 - accuracy: 0.9125\n"
     ]
    },
    {
     "data": {
      "text/plain": [
       "[0.26155218482017517, 0.9125000238418579]"
      ]
     },
     "execution_count": 73,
     "metadata": {},
     "output_type": "execute_result"
    }
   ],
   "source": [
    "model.evaluate(train_dataset)"
   ]
  },
  {
   "cell_type": "code",
   "execution_count": 2,
   "metadata": {},
   "outputs": [
    {
     "ename": "NameError",
     "evalue": "name 'val_df' is not defined",
     "output_type": "error",
     "traceback": [
      "\u001b[1;31m---------------------------------------------------------------------------\u001b[0m",
      "\u001b[1;31mNameError\u001b[0m                                 Traceback (most recent call last)",
      "Cell \u001b[1;32mIn[2], line 1\u001b[0m\n\u001b[1;32m----> 1\u001b[0m \u001b[38;5;28;01mfor\u001b[39;00m i \u001b[38;5;129;01min\u001b[39;00m \u001b[43mval_df\u001b[49m[\u001b[38;5;124m'\u001b[39m\u001b[38;5;124mimg_name\u001b[39m\u001b[38;5;124m'\u001b[39m]:\n\u001b[0;32m      2\u001b[0m     \u001b[38;5;28mprint\u001b[39m(i)\n",
      "\u001b[1;31mNameError\u001b[0m: name 'val_df' is not defined"
     ]
    }
   ],
   "source": [
    "for i in val_df['img_name']:\n",
    "    print(i)"
   ]
  },
  {
   "cell_type": "code",
   "execution_count": null,
   "metadata": {},
   "outputs": [],
   "source": []
  }
 ],
 "metadata": {
  "kernelspec": {
   "display_name": "Python 3",
   "language": "python",
   "name": "python3"
  },
  "language_info": {
   "codemirror_mode": {
    "name": "ipython",
    "version": 3
   },
   "file_extension": ".py",
   "mimetype": "text/x-python",
   "name": "python",
   "nbconvert_exporter": "python",
   "pygments_lexer": "ipython3",
   "version": "3.10.0"
  }
 },
 "nbformat": 4,
 "nbformat_minor": 2
}
